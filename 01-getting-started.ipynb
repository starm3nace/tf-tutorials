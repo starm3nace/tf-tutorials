{
 "cells": [
  {
   "cell_type": "markdown",
   "metadata": {},
   "source": [
    "# Getting Started With TensorFlow\n",
    "\n",
    "https://www.tensorflow.org/get_started/get_started"
   ]
  },
  {
   "cell_type": "code",
   "execution_count": 1,
   "metadata": {},
   "outputs": [
    {
     "name": "stdout",
     "output_type": "stream",
     "text": [
      "b'Hello, TensorFlow!'\n"
     ]
    }
   ],
   "source": [
    "# Python\n",
    "import tensorflow as tf\n",
    "hello = tf.constant('Hello, TensorFlow!')\n",
    "sess = tf.Session()\n",
    "print(sess.run(hello))"
   ]
  },
  {
   "cell_type": "code",
   "execution_count": 2,
   "metadata": {},
   "outputs": [
    {
     "name": "stdout",
     "output_type": "stream",
     "text": [
      "Tensor(\"Const_1:0\", shape=(), dtype=float32)\n",
      "Tensor(\"Const_2:0\", shape=(), dtype=float32)\n"
     ]
    }
   ],
   "source": [
    "node1 = tf.constant(3.0, dtype=tf.float32)\n",
    "node2 = tf.constant(4.0) # also tf.float32 implicitly\n",
    "print(node1)\n",
    "print(node2)"
   ]
  },
  {
   "cell_type": "code",
   "execution_count": 3,
   "metadata": {},
   "outputs": [
    {
     "name": "stdout",
     "output_type": "stream",
     "text": [
      "[3.0, 4.0]\n"
     ]
    }
   ],
   "source": [
    "sess = tf.Session()\n",
    "print(sess.run([node1, node2]))"
   ]
  },
  {
   "cell_type": "code",
   "execution_count": 4,
   "metadata": {},
   "outputs": [
    {
     "name": "stdout",
     "output_type": "stream",
     "text": [
      "node3: Tensor(\"Add:0\", shape=(), dtype=float32)\n",
      "sess.run(node3): 7.0\n"
     ]
    }
   ],
   "source": [
    "node3 = tf.add(node1, node2)\n",
    "print(\"node3:\", node3)\n",
    "print(\"sess.run(node3):\", sess.run(node3))"
   ]
  },
  {
   "cell_type": "code",
   "execution_count": 5,
   "metadata": {
    "collapsed": true
   },
   "outputs": [],
   "source": [
    "a = tf.placeholder(tf.float32)\n",
    "b = tf.placeholder(tf.float32)\n",
    "adder_node = a + b  # + provides a shortcut for tf.add(a, b)"
   ]
  },
  {
   "cell_type": "code",
   "execution_count": 6,
   "metadata": {},
   "outputs": [
    {
     "name": "stdout",
     "output_type": "stream",
     "text": [
      "7.5\n",
      "[ 3.  7.]\n"
     ]
    }
   ],
   "source": [
    "print(sess.run(adder_node, {a: 3, b: 4.5}))\n",
    "print(sess.run(adder_node, {a: [1, 3], b: [2, 4]}))"
   ]
  },
  {
   "cell_type": "code",
   "execution_count": 7,
   "metadata": {},
   "outputs": [
    {
     "name": "stdout",
     "output_type": "stream",
     "text": [
      "22.5\n"
     ]
    }
   ],
   "source": [
    "add_and_triple = adder_node * 3.\n",
    "print(sess.run(add_and_triple, {a: 3, b: 4.5}))"
   ]
  },
  {
   "cell_type": "code",
   "execution_count": 8,
   "metadata": {
    "collapsed": true
   },
   "outputs": [],
   "source": [
    "W = tf.Variable([.3], dtype=tf.float32)\n",
    "b = tf.Variable([-.3], dtype=tf.float32)\n",
    "x = tf.placeholder(tf.float32)\n",
    "linear_model = W * x + b"
   ]
  },
  {
   "cell_type": "code",
   "execution_count": 9,
   "metadata": {
    "collapsed": true
   },
   "outputs": [],
   "source": [
    "init = tf.global_variables_initializer()\n",
    "sess.run(init)"
   ]
  },
  {
   "cell_type": "code",
   "execution_count": 10,
   "metadata": {},
   "outputs": [
    {
     "name": "stdout",
     "output_type": "stream",
     "text": [
      "[ 0.          0.30000001  0.60000002  0.90000004]\n"
     ]
    }
   ],
   "source": [
    "#Since x is a placeholder, we can evaluate linear_model for several values of x simultaneously as follows:\n",
    "\n",
    "print(sess.run(linear_model, {x: [1, 2, 3, 4]}))"
   ]
  },
  {
   "cell_type": "code",
   "execution_count": 11,
   "metadata": {},
   "outputs": [
    {
     "name": "stdout",
     "output_type": "stream",
     "text": [
      "23.66\n"
     ]
    }
   ],
   "source": [
    "y = tf.placeholder(tf.float32)\n",
    "squared_deltas = tf.square(linear_model - y)\n",
    "loss = tf.reduce_sum(squared_deltas)\n",
    "print(sess.run(loss, {x: [1, 2, 3, 4], y: [0, -1, -2, -3]}))"
   ]
  },
  {
   "cell_type": "code",
   "execution_count": 12,
   "metadata": {},
   "outputs": [
    {
     "name": "stdout",
     "output_type": "stream",
     "text": [
      "[array([-0.99999911], dtype=float32), array([ 0.99999744], dtype=float32)]\n",
      "----------------------------------------\n",
      "CPU times: user 6.22 s, sys: 1.67 s, total: 7.89 s\n",
      "Wall time: 4.64 s\n"
     ]
    }
   ],
   "source": [
    "%%time\n",
    "optimizer = tf.train.GradientDescentOptimizer(0.01)\n",
    "train = optimizer.minimize(loss)\n",
    "\n",
    "sess.run(init) # reset values to incorrect defaults.\n",
    "for i in range(10000):\n",
    "  sess.run(train, {x: [1, 2, 3, 4], y: [0, -1, -2, -3]})\n",
    "\n",
    "print(sess.run([W, b]))\n",
    "print('-'*40)"
   ]
  },
  {
   "cell_type": "code",
   "execution_count": 13,
   "metadata": {},
   "outputs": [
    {
     "name": "stdout",
     "output_type": "stream",
     "text": [
      "W: [-0.9999969] b: [ 0.99999082] loss: 5.69997e-11\n"
     ]
    }
   ],
   "source": [
    "import tensorflow as tf\n",
    "\n",
    "# Model parameters\n",
    "W = tf.Variable([.3], dtype=tf.float32)\n",
    "b = tf.Variable([-.3], dtype=tf.float32)\n",
    "# Model input and output\n",
    "x = tf.placeholder(tf.float32)\n",
    "linear_model = W * x + b\n",
    "y = tf.placeholder(tf.float32)\n",
    "\n",
    "# loss\n",
    "loss = tf.reduce_sum(tf.square(linear_model - y)) # sum of the squares\n",
    "# optimizer\n",
    "optimizer = tf.train.GradientDescentOptimizer(0.01)\n",
    "train = optimizer.minimize(loss)\n",
    "\n",
    "# training data\n",
    "x_train = [1, 2, 3, 4]\n",
    "y_train = [0, -1, -2, -3]\n",
    "# training loop\n",
    "init = tf.global_variables_initializer()\n",
    "sess = tf.Session()\n",
    "sess.run(init) # reset values to wrong\n",
    "for i in range(1000):\n",
    "  sess.run(train, {x: x_train, y: y_train})\n",
    "\n",
    "# evaluate training accuracy\n",
    "curr_W, curr_b, curr_loss = sess.run([W, b, loss], {x: x_train, y: y_train})\n",
    "print(\"W: %s b: %s loss: %s\"%(curr_W, curr_b, curr_loss))"
   ]
  },
  {
   "cell_type": "code",
   "execution_count": 15,
   "metadata": {},
   "outputs": [
    {
     "data": {
      "text/plain": [
       "'1.3.0'"
      ]
     },
     "execution_count": 15,
     "metadata": {},
     "output_type": "execute_result"
    }
   ],
   "source": [
    "tf.__version__"
   ]
  },
  {
   "cell_type": "code",
   "execution_count": 16,
   "metadata": {},
   "outputs": [
    {
     "name": "stdout",
     "output_type": "stream",
     "text": [
      "INFO:tensorflow:Using default config.\n",
      "WARNING:tensorflow:Using temporary folder as model directory: /var/folders/mx/wr958bxn0f5bxqt27ycsf1x4009b7l/T/tmp19yi7_rz\n",
      "INFO:tensorflow:Using config: {'_model_dir': '/var/folders/mx/wr958bxn0f5bxqt27ycsf1x4009b7l/T/tmp19yi7_rz', '_tf_random_seed': 1, '_save_summary_steps': 100, '_save_checkpoints_secs': 600, '_save_checkpoints_steps': None, '_session_config': None, '_keep_checkpoint_max': 5, '_keep_checkpoint_every_n_hours': 10000, '_log_step_count_steps': 100}\n",
      "INFO:tensorflow:Create CheckpointSaverHook.\n",
      "INFO:tensorflow:Saving checkpoints for 1 into /var/folders/mx/wr958bxn0f5bxqt27ycsf1x4009b7l/T/tmp19yi7_rz/model.ckpt.\n",
      "INFO:tensorflow:loss = 14.0, step = 1\n",
      "INFO:tensorflow:global_step/sec: 954.829\n",
      "INFO:tensorflow:loss = 0.205759, step = 101 (0.115 sec)\n",
      "INFO:tensorflow:global_step/sec: 907.161\n",
      "INFO:tensorflow:loss = 0.0376425, step = 201 (0.101 sec)\n",
      "INFO:tensorflow:global_step/sec: 980.227\n",
      "INFO:tensorflow:loss = 0.00472995, step = 301 (0.102 sec)\n",
      "INFO:tensorflow:global_step/sec: 963.727\n",
      "INFO:tensorflow:loss = 0.000355199, step = 401 (0.104 sec)\n",
      "INFO:tensorflow:global_step/sec: 923.575\n",
      "INFO:tensorflow:loss = 0.000354416, step = 501 (0.108 sec)\n",
      "INFO:tensorflow:global_step/sec: 897.425\n",
      "INFO:tensorflow:loss = 2.5258e-05, step = 601 (0.112 sec)\n",
      "INFO:tensorflow:global_step/sec: 880.59\n",
      "INFO:tensorflow:loss = 5.53623e-06, step = 701 (0.113 sec)\n",
      "INFO:tensorflow:global_step/sec: 1078.95\n",
      "INFO:tensorflow:loss = 1.57051e-06, step = 801 (0.093 sec)\n",
      "INFO:tensorflow:global_step/sec: 988.446\n",
      "INFO:tensorflow:loss = 1.97027e-07, step = 901 (0.101 sec)\n",
      "INFO:tensorflow:Saving checkpoints for 1000 into /var/folders/mx/wr958bxn0f5bxqt27ycsf1x4009b7l/T/tmp19yi7_rz/model.ckpt.\n",
      "INFO:tensorflow:Loss for final step: 3.39118e-08.\n",
      "INFO:tensorflow:Starting evaluation at 2017-09-30-18:05:58\n",
      "INFO:tensorflow:Restoring parameters from /var/folders/mx/wr958bxn0f5bxqt27ycsf1x4009b7l/T/tmp19yi7_rz/model.ckpt-1000\n",
      "INFO:tensorflow:Finished evaluation at 2017-09-30-18:05:59\n",
      "INFO:tensorflow:Saving dict for global step 1000: average_loss = 9.65218e-09, global_step = 1000, loss = 3.86087e-08\n",
      "INFO:tensorflow:Starting evaluation at 2017-09-30-18:06:00\n",
      "INFO:tensorflow:Restoring parameters from /var/folders/mx/wr958bxn0f5bxqt27ycsf1x4009b7l/T/tmp19yi7_rz/model.ckpt-1000\n",
      "INFO:tensorflow:Finished evaluation at 2017-09-30-18:06:01\n",
      "INFO:tensorflow:Saving dict for global step 1000: average_loss = 0.0025332, global_step = 1000, loss = 0.0101328\n",
      "train metrics: {'average_loss': 9.6521804e-09, 'loss': 3.8608722e-08, 'global_step': 1000}\n",
      "eval metrics: {'average_loss': 0.002533196, 'loss': 0.010132784, 'global_step': 1000}\n"
     ]
    }
   ],
   "source": [
    "import tensorflow as tf\n",
    "# NumPy is often used to load, manipulate and preprocess data.\n",
    "import numpy as np\n",
    "\n",
    "# Declare list of features. We only have one numeric feature. There are many\n",
    "# other types of columns that are more complicated and useful.\n",
    "feature_columns = [tf.feature_column.numeric_column(\"x\", shape=[1])]\n",
    "\n",
    "# An estimator is the front end to invoke training (fitting) and evaluation\n",
    "# (inference). There are many predefined types like linear regression,\n",
    "# linear classification, and many neural network classifiers and regressors.\n",
    "# The following code provides an estimator that does linear regression.\n",
    "estimator = tf.estimator.LinearRegressor(feature_columns=feature_columns)\n",
    "\n",
    "# TensorFlow provides many helper methods to read and set up data sets.\n",
    "# Here we use two data sets: one for training and one for evaluation\n",
    "# We have to tell the function how many batches\n",
    "# of data (num_epochs) we want and how big each batch should be.\n",
    "x_train = np.array([1., 2., 3., 4.])\n",
    "y_train = np.array([0., -1., -2., -3.])\n",
    "x_eval = np.array([2., 5., 8., 1.])\n",
    "y_eval = np.array([-1.01, -4.1, -7, 0.])\n",
    "input_fn = tf.estimator.inputs.numpy_input_fn(\n",
    "    {\"x\": x_train}, y_train, batch_size=4, num_epochs=None, shuffle=True)\n",
    "train_input_fn = tf.estimator.inputs.numpy_input_fn(\n",
    "    {\"x\": x_train}, y_train, batch_size=4, num_epochs=1000, shuffle=False)\n",
    "eval_input_fn = tf.estimator.inputs.numpy_input_fn(\n",
    "    {\"x\": x_eval}, y_eval, batch_size=4, num_epochs=1000, shuffle=False)\n",
    "\n",
    "# We can invoke 1000 training steps by invoking the  method and passing the\n",
    "# training data set.\n",
    "estimator.train(input_fn=input_fn, steps=1000)\n",
    "\n",
    "# Here we evaluate how well our model did.\n",
    "train_metrics = estimator.evaluate(input_fn=train_input_fn)\n",
    "eval_metrics = estimator.evaluate(input_fn=eval_input_fn)\n",
    "print(\"train metrics: %r\"% train_metrics)\n",
    "print(\"eval metrics: %r\"% eval_metrics)"
   ]
  },
  {
   "cell_type": "code",
   "execution_count": 17,
   "metadata": {},
   "outputs": [
    {
     "name": "stdout",
     "output_type": "stream",
     "text": [
      "INFO:tensorflow:Using default config.\n",
      "WARNING:tensorflow:Using temporary folder as model directory: /var/folders/mx/wr958bxn0f5bxqt27ycsf1x4009b7l/T/tmpffrucic8\n",
      "INFO:tensorflow:Using config: {'_model_dir': '/var/folders/mx/wr958bxn0f5bxqt27ycsf1x4009b7l/T/tmpffrucic8', '_tf_random_seed': 1, '_save_summary_steps': 100, '_save_checkpoints_secs': 600, '_save_checkpoints_steps': None, '_session_config': None, '_keep_checkpoint_max': 5, '_keep_checkpoint_every_n_hours': 10000, '_log_step_count_steps': 100}\n",
      "INFO:tensorflow:Create CheckpointSaverHook.\n",
      "INFO:tensorflow:Saving checkpoints for 1 into /var/folders/mx/wr958bxn0f5bxqt27ycsf1x4009b7l/T/tmpffrucic8/model.ckpt.\n",
      "INFO:tensorflow:loss = 14.1751990025, step = 1\n",
      "INFO:tensorflow:global_step/sec: 1060.02\n",
      "INFO:tensorflow:loss = 0.012264612301, step = 101 (0.091 sec)\n",
      "INFO:tensorflow:global_step/sec: 994.262\n",
      "INFO:tensorflow:loss = 0.00577633767694, step = 201 (0.101 sec)\n",
      "INFO:tensorflow:global_step/sec: 996.187\n",
      "INFO:tensorflow:loss = 0.000285595890314, step = 301 (0.102 sec)\n",
      "INFO:tensorflow:global_step/sec: 892.705\n",
      "INFO:tensorflow:loss = 2.22289695262e-05, step = 401 (0.109 sec)\n",
      "INFO:tensorflow:global_step/sec: 998.639\n",
      "INFO:tensorflow:loss = 2.09202211322e-06, step = 501 (0.100 sec)\n",
      "INFO:tensorflow:global_step/sec: 1014.6\n",
      "INFO:tensorflow:loss = 2.61971900912e-07, step = 601 (0.098 sec)\n",
      "INFO:tensorflow:global_step/sec: 1069.87\n",
      "INFO:tensorflow:loss = 2.07747992772e-08, step = 701 (0.094 sec)\n",
      "INFO:tensorflow:global_step/sec: 971.176\n",
      "INFO:tensorflow:loss = 2.84497045661e-09, step = 801 (0.103 sec)\n",
      "INFO:tensorflow:global_step/sec: 999.343\n",
      "INFO:tensorflow:loss = 1.56968076429e-10, step = 901 (0.100 sec)\n",
      "INFO:tensorflow:Saving checkpoints for 1000 into /var/folders/mx/wr958bxn0f5bxqt27ycsf1x4009b7l/T/tmpffrucic8/model.ckpt.\n",
      "INFO:tensorflow:Loss for final step: 1.59516147838e-11.\n",
      "INFO:tensorflow:Starting evaluation at 2017-09-30-18:07:28\n",
      "INFO:tensorflow:Restoring parameters from /var/folders/mx/wr958bxn0f5bxqt27ycsf1x4009b7l/T/tmpffrucic8/model.ckpt-1000\n",
      "INFO:tensorflow:Finished evaluation at 2017-09-30-18:07:29\n",
      "INFO:tensorflow:Saving dict for global step 1000: global_step = 1000, loss = 1.38087e-11\n",
      "INFO:tensorflow:Starting evaluation at 2017-09-30-18:07:29\n",
      "INFO:tensorflow:Restoring parameters from /var/folders/mx/wr958bxn0f5bxqt27ycsf1x4009b7l/T/tmpffrucic8/model.ckpt-1000\n",
      "INFO:tensorflow:Finished evaluation at 2017-09-30-18:07:30\n",
      "INFO:tensorflow:Saving dict for global step 1000: global_step = 1000, loss = 0.0101004\n",
      "train metrics: {'loss': 1.380869e-11, 'global_step': 1000}\n",
      "eval metrics: {'loss': 0.010100388, 'global_step': 1000}\n"
     ]
    }
   ],
   "source": [
    "# custom estimator\n",
    "\n",
    "import numpy as np\n",
    "import tensorflow as tf\n",
    "\n",
    "# Declare list of features, we only have one real-valued feature\n",
    "def model_fn(features, labels, mode):\n",
    "  # Build a linear model and predict values\n",
    "  W = tf.get_variable(\"W\", [1], dtype=tf.float64)\n",
    "  b = tf.get_variable(\"b\", [1], dtype=tf.float64)\n",
    "  y = W * features['x'] + b\n",
    "  # Loss sub-graph\n",
    "  loss = tf.reduce_sum(tf.square(y - labels))\n",
    "  # Training sub-graph\n",
    "  global_step = tf.train.get_global_step()\n",
    "  optimizer = tf.train.GradientDescentOptimizer(0.01)\n",
    "  train = tf.group(optimizer.minimize(loss),\n",
    "                   tf.assign_add(global_step, 1))\n",
    "  # EstimatorSpec connects subgraphs we built to the\n",
    "  # appropriate functionality.\n",
    "  return tf.estimator.EstimatorSpec(\n",
    "      mode=mode,\n",
    "      predictions=y,\n",
    "      loss=loss,\n",
    "      train_op=train)\n",
    "\n",
    "estimator = tf.estimator.Estimator(model_fn=model_fn)\n",
    "# define our data sets\n",
    "x_train = np.array([1., 2., 3., 4.])\n",
    "y_train = np.array([0., -1., -2., -3.])\n",
    "x_eval = np.array([2., 5., 8., 1.])\n",
    "y_eval = np.array([-1.01, -4.1, -7, 0.])\n",
    "input_fn = tf.estimator.inputs.numpy_input_fn(\n",
    "    {\"x\": x_train}, y_train, batch_size=4, num_epochs=None, shuffle=True)\n",
    "train_input_fn = tf.estimator.inputs.numpy_input_fn(\n",
    "    {\"x\": x_train}, y_train, batch_size=4, num_epochs=1000, shuffle=False)\n",
    "eval_input_fn = tf.estimator.inputs.numpy_input_fn(\n",
    "    {\"x\": x_eval}, y_eval, batch_size=4, num_epochs=1000, shuffle=False)\n",
    "\n",
    "# train\n",
    "estimator.train(input_fn=input_fn, steps=1000)\n",
    "# Here we evaluate how well our model did.\n",
    "train_metrics = estimator.evaluate(input_fn=train_input_fn)\n",
    "eval_metrics = estimator.evaluate(input_fn=eval_input_fn)\n",
    "print(\"train metrics: %r\"% train_metrics)\n",
    "print(\"eval metrics: %r\"% eval_metrics)"
   ]
  },
  {
   "cell_type": "code",
   "execution_count": null,
   "metadata": {
    "collapsed": true
   },
   "outputs": [],
   "source": []
  },
  {
   "cell_type": "code",
   "execution_count": null,
   "metadata": {
    "collapsed": true
   },
   "outputs": [],
   "source": []
  }
 ],
 "metadata": {
  "kernelspec": {
   "display_name": "Python 3",
   "language": "python",
   "name": "python3"
  },
  "language_info": {
   "codemirror_mode": {
    "name": "ipython",
    "version": 3
   },
   "file_extension": ".py",
   "mimetype": "text/x-python",
   "name": "python",
   "nbconvert_exporter": "python",
   "pygments_lexer": "ipython3",
   "version": "3.6.2"
  }
 },
 "nbformat": 4,
 "nbformat_minor": 2
}
